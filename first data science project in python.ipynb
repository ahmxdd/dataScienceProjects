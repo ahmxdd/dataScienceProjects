{
 "cells": [
  {
   "cell_type": "markdown",
   "id": "9e9a34c4",
   "metadata": {},
   "source": [
    "# First Data Science Project\n",
    "## Analyzing Data - Prison Helicopter Escapes\n",
    "\n",
    "The goal of this project is to use the wikipedia dataset to answer the following questions:\n",
    "    - In which year did the most helicopter prison break attempts occur?\n",
    "    - In which countries do the most attempted helicopter prison escapes occur?\n",
    "\n",
    "Begin by importing helper functions. Let's answer the first question for now. "
   ]
  },
  {
   "cell_type": "code",
   "execution_count": 2,
   "id": "7159f9f0",
   "metadata": {},
   "outputs": [
    {
     "ename": "ModuleNotFoundError",
     "evalue": "No module named 'theano'",
     "output_type": "error",
     "traceback": [
      "\u001b[1;31m---------------------------------------------------------------------------\u001b[0m",
      "\u001b[1;31mModuleNotFoundError\u001b[0m                       Traceback (most recent call last)",
      "Cell \u001b[1;32mIn[2], line 1\u001b[0m\n\u001b[1;32m----> 1\u001b[0m \u001b[38;5;28;01mimport\u001b[39;00m \u001b[38;5;21;01mtheano\u001b[39;00m\u001b[38;5;21;01m.\u001b[39;00m\u001b[38;5;21;01mtensor\u001b[39;00m \u001b[38;5;28;01mas\u001b[39;00m \u001b[38;5;21;01mT\u001b[39;00m\n\u001b[0;32m      2\u001b[0m \u001b[38;5;28;01mimport\u001b[39;00m \u001b[38;5;21;01mlasagne\u001b[39;00m\n\u001b[0;32m      3\u001b[0m \u001b[38;5;28;01mfrom\u001b[39;00m \u001b[38;5;21;01mlasagne\u001b[39;00m\u001b[38;5;21;01m.\u001b[39;00m\u001b[38;5;21;01mlayers\u001b[39;00m \u001b[38;5;28;01mimport\u001b[39;00m Layer\n",
      "\u001b[1;31mModuleNotFoundError\u001b[0m: No module named 'theano'"
     ]
    }
   ],
   "source": [
    "from helper import *"
   ]
  },
  {
   "cell_type": "markdown",
   "id": "3df2d790",
   "metadata": {},
   "source": [
    "## Get the Data\n"
   ]
  },
  {
   "cell_type": "markdown",
   "id": "ff8b4107",
   "metadata": {},
   "source": [
    "The data used for this project is from wikipedia's list of helicopter prison escapes, https://en.wikipedia.org/wiki/List_of_helicopter_prison_escapes"
   ]
  },
  {
   "cell_type": "code",
   "execution_count": null,
   "id": "af404729",
   "metadata": {},
   "outputs": [],
   "source": [
    "url = \"https://en.wikipedia.org/wiki/List_of_helicopter_prison_escapes\"\n",
    "data = data_from_url(url)"
   ]
  },
  {
   "cell_type": "markdown",
   "id": "5775cfcf",
   "metadata": {},
   "source": [
    "Lets inspect the first couple rows of data"
   ]
  },
  {
   "cell_type": "code",
   "execution_count": null,
   "id": "ccb7072e",
   "metadata": {},
   "outputs": [],
   "source": [
    "for row in data[:3]:\n",
    "    print(row)"
   ]
  },
  {
   "cell_type": "markdown",
   "id": "0d077755",
   "metadata": {},
   "source": [
    "Notice how the last column contains unnecessary information, so now we will remove it.\n",
    "\n",
    "To begin, lets initialize an index variable with a value of 0, to help us track which row is being modified."
   ]
  },
  {
   "cell_type": "code",
   "execution_count": null,
   "id": "b61aba6c",
   "metadata": {},
   "outputs": [],
   "source": [
    "index = 0\n",
    "for row in data:\n",
    "    data[index] = row[:-1]\n",
    "    index += 1"
   ]
  },
  {
   "cell_type": "markdown",
   "id": "8726c457",
   "metadata": {},
   "source": [
    "## Extracting the Year"
   ]
  },
  {
   "cell_type": "markdown",
   "id": "1af64b6d",
   "metadata": {},
   "source": [
    "To answer our questions, we need to extract the year.\n",
    "\n",
    "In the code cell below, with date = fetch_year(row[0]), we're extracting the year out of the date in \"row[0]\" and assiging it to the variable date. We then replace the value of row[0] with the year that we just extracted."
   ]
  },
  {
   "cell_type": "code",
   "execution_count": null,
   "id": "4ee5ce9d",
   "metadata": {},
   "outputs": [],
   "source": [
    "for row in data:\n",
    "    date = fetch_year(row[0])\n",
    "    row[0] = date"
   ]
  },
  {
   "cell_type": "markdown",
   "id": "394c07a6",
   "metadata": {},
   "source": [
    "## Attempts per Year"
   ]
  },
  {
   "cell_type": "code",
   "execution_count": null,
   "id": "2e55f395",
   "metadata": {},
   "outputs": [],
   "source": [
    "min_year = min(data, key=lambda x: x[0])[0]\n",
    "max_year = max(data, key=lambda x: x[0])[0]\n",
    "print(min_year)\n",
    "print(max_year)"
   ]
  },
  {
   "cell_type": "markdown",
   "id": "503c9f7b",
   "metadata": {},
   "source": [
    "Now that we know what the list of years is from ranging from min_year to max_year, we can add them to a list of years. Note that the dataset only lists years when prison breaks occured, so the dataset can be used in our analysis"
   ]
  },
  {
   "cell_type": "code",
   "execution_count": null,
   "id": "249751c5",
   "metadata": {},
   "outputs": [],
   "source": [
    "years = []\n",
    "for year in range(min_year, max_year + 1):\n",
    "    years.append(year)"
   ]
  },
  {
   "cell_type": "markdown",
   "id": "856aab57",
   "metadata": {},
   "source": [
    "Now we create a list where each element looks like [year, 0]"
   ]
  },
  {
   "cell_type": "code",
   "execution_count": null,
   "id": "421b6904",
   "metadata": {},
   "outputs": [],
   "source": [
    "attempts_per_year = []\n",
    "for year in years:\n",
    "    attempts_per_year.append([year, 0])"
   ]
  },
  {
   "cell_type": "markdown",
   "id": "e0bc412c",
   "metadata": {},
   "source": [
    "Now we increment the second entry by 1 each time a year appears in the data."
   ]
  },
  {
   "cell_type": "code",
   "execution_count": null,
   "id": "76baaf4a",
   "metadata": {},
   "outputs": [],
   "source": [
    "for row in data:\n",
    "    for year_attempt in attempts_per_year:\n",
    "        year = year_attempt[0]\n",
    "        if row[0] == year:\n",
    "            year_attempt[1] += 1\n",
    "            \n",
    "print(attempts_per_year)    "
   ]
  },
  {
   "cell_type": "markdown",
   "id": "37325100",
   "metadata": {},
   "source": [
    "Now we create a bar graph of the year frequencies to see in which years most helicopter prison break attempts occured."
   ]
  },
  {
   "cell_type": "code",
   "execution_count": null,
   "id": "cab21017",
   "metadata": {},
   "outputs": [],
   "source": [
    "%matplotlib inline\n",
    "barplot(attempts_per_year)\n"
   ]
  },
  {
   "cell_type": "markdown",
   "id": "ab3b4a82",
   "metadata": {},
   "source": [
    "Therefore, the years in which the most helicopter prison break attempts occurred were 1986, 2001, 2007 and 2009, with a total of three attempts each."
   ]
  },
  {
   "cell_type": "markdown",
   "id": "dd21bd30",
   "metadata": {},
   "source": [
    "Attempts by Country"
   ]
  },
  {
   "cell_type": "markdown",
   "id": "6e1dc513",
   "metadata": {},
   "source": [
    "Below, we group the dataset by the column 'Country' and use a method from the helper function to create a frequency table to see which countries had the most occurences of helicopter breaks."
   ]
  },
  {
   "cell_type": "code",
   "execution_count": null,
   "id": "25c6bec8",
   "metadata": {},
   "outputs": [],
   "source": [
    "countries_frequency = df.groupby(\"Country\").value_counts()\n",
    "print_pretty_table(countries_frequency)"
   ]
  },
  {
   "cell_type": "markdown",
   "id": "ecce9c9a",
   "metadata": {},
   "source": [
    "So, the country with the most helicopter prison escape attempts is France. "
   ]
  },
  {
   "cell_type": "code",
   "execution_count": null,
   "id": "836b03b4",
   "metadata": {},
   "outputs": [],
   "source": []
  },
  {
   "cell_type": "code",
   "execution_count": null,
   "id": "917bb067",
   "metadata": {},
   "outputs": [],
   "source": []
  }
 ],
 "metadata": {
  "kernelspec": {
   "display_name": "Python 3 (ipykernel)",
   "language": "python",
   "name": "python3"
  },
  "language_info": {
   "codemirror_mode": {
    "name": "ipython",
    "version": 3
   },
   "file_extension": ".py",
   "mimetype": "text/x-python",
   "name": "python",
   "nbconvert_exporter": "python",
   "pygments_lexer": "ipython3",
   "version": "3.10.9"
  }
 },
 "nbformat": 4,
 "nbformat_minor": 5
}
